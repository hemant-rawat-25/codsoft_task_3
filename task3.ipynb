{
  "metadata": {
    "language_info": {
      "codemirror_mode": {
        "name": "python",
        "version": 3
      },
      "file_extension": ".py",
      "mimetype": "text/x-python",
      "name": "python",
      "nbconvert_exporter": "python",
      "pygments_lexer": "ipython3",
      "version": "3.8"
    },
    "kernelspec": {
      "name": "python",
      "display_name": "Python (Pyodide)",
      "language": "python"
    }
  },
  "nbformat_minor": 4,
  "nbformat": 4,
  "cells": [
    {
      "cell_type": "markdown",
      "source": "# Importing Required Libraries",
      "metadata": {}
    },
    {
      "cell_type": "code",
      "source": "%pip install seaborn",
      "metadata": {
        "trusted": true
      },
      "execution_count": null,
      "outputs": []
    },
    {
      "cell_type": "code",
      "source": "#required libraries \nimport pandas as pd\nimport seaborn as sns\nimport matplotlib.pyplot as plt\nfrom sklearn.model_selection import train_test_split\nfrom sklearn.preprocessing import StandardScaler\nfrom sklearn.tree import DecisionTreeClassifier\nfrom sklearn.metrics import accuracy_score",
      "metadata": {
        "trusted": true
      },
      "execution_count": null,
      "outputs": []
    },
    {
      "cell_type": "markdown",
      "source": "# Loading the Data",
      "metadata": {}
    },
    {
      "cell_type": "code",
      "source": "iris_data=pd.read_csv(\"iris.csv\")\niris_data",
      "metadata": {
        "trusted": true
      },
      "execution_count": null,
      "outputs": []
    },
    {
      "cell_type": "markdown",
      "source": "# Splitting Data into Feature and Target Variable",
      "metadata": {}
    },
    {
      "cell_type": "code",
      "source": "X=iris_data.drop(\"species\",axis=1)\nY=iris_data[\"species\"]",
      "metadata": {
        "trusted": true
      },
      "execution_count": null,
      "outputs": []
    },
    {
      "cell_type": "markdown",
      "source": "# Splitting the Data into Training and Testing Sets",
      "metadata": {}
    },
    {
      "cell_type": "code",
      "source": "X_train,X_test,Y_train,Y_test = train_test_split(X,Y,test_size=0.2,random_state=42)",
      "metadata": {
        "trusted": true
      },
      "execution_count": null,
      "outputs": []
    },
    {
      "cell_type": "markdown",
      "source": "# Train a Decision Tree Classifier",
      "metadata": {}
    },
    {
      "cell_type": "code",
      "source": "classifier=DecisionTreeClassifier()\nclassifier.fit(X_train,Y_train)",
      "metadata": {
        "trusted": true
      },
      "execution_count": null,
      "outputs": []
    },
    {
      "cell_type": "markdown",
      "source": "# Make Prediction on the Test Set",
      "metadata": {}
    },
    {
      "cell_type": "code",
      "source": "Y_pred=classifier.predict(X_test)",
      "metadata": {
        "trusted": true
      },
      "execution_count": null,
      "outputs": []
    },
    {
      "cell_type": "markdown",
      "source": "# Calculate Accuracy",
      "metadata": {}
    },
    {
      "cell_type": "code",
      "source": "accuracy=accuracy_score(Y_test,Y_pred)\nprint(\"Accuracy:\",accuracy)",
      "metadata": {
        "trusted": true
      },
      "execution_count": null,
      "outputs": []
    },
    {
      "cell_type": "code",
      "source": "",
      "metadata": {},
      "execution_count": null,
      "outputs": []
    }
  ]
}